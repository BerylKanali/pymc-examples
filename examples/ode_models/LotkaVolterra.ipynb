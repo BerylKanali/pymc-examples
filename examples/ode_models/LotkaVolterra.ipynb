{
 "cells": [
  {
   "cell_type": "code",
   "execution_count": 66,
   "id": "13e0edb2",
   "metadata": {},
   "outputs": [],
   "source": [
    "import pymc as pm\n",
    "from pymc.ode import DifferentialEquation\n",
    "import arviz as az\n",
    "import numpy as np"
   ]
  },
  {
   "cell_type": "code",
   "execution_count": 67,
   "id": "89a906c5",
   "metadata": {},
   "outputs": [
    {
     "data": {
      "text/plain": [
       "'4.0.0'"
      ]
     },
     "execution_count": 67,
     "metadata": {},
     "output_type": "execute_result"
    }
   ],
   "source": [
    "pm.__version__"
   ]
  },
  {
   "cell_type": "markdown",
   "id": "57d68223",
   "metadata": {},
   "source": [
    "* https://docs.pymc.io/en/v3/pymc-examples/examples/ode_models/ODE_with_manual_gradients.html\n",
    "* https://mc-stan.org/users/documentation/case-studies/lotka-volterra-predator-prey.html#mechanistic-model-the-lotka-volterra-equations"
   ]
  },
  {
   "cell_type": "markdown",
   "id": "e5ea35d8",
   "metadata": {},
   "source": [
    "# Data\n"
   ]
  },
  {
   "cell_type": "code",
   "execution_count": 68,
   "id": "90a9a93d",
   "metadata": {},
   "outputs": [
    {
     "data": {
      "text/plain": [
       "array([[30. ,  4. ],\n",
       "       [47.2,  6.1],\n",
       "       [70.2,  9.8],\n",
       "       [77.4, 35.2],\n",
       "       [36.3, 59.4],\n",
       "       [20.6, 41.7],\n",
       "       [18.1, 19. ],\n",
       "       [21.4, 13. ],\n",
       "       [22. ,  8.3],\n",
       "       [25.4,  9.1],\n",
       "       [27.1,  7.4],\n",
       "       [40.3,  8. ],\n",
       "       [57. , 12.3],\n",
       "       [76.6, 19.5],\n",
       "       [52.3, 45.7],\n",
       "       [19.5, 51.1],\n",
       "       [11.2, 29.7],\n",
       "       [ 7.6, 15.8],\n",
       "       [14.6,  9.7],\n",
       "       [16.2, 10.1],\n",
       "       [24.7,  8.6]])"
      ]
     },
     "execution_count": 68,
     "metadata": {},
     "output_type": "execute_result"
    }
   ],
   "source": [
    "year = np.arange(1900, 1921, 1)\n",
    "year = np.arange(0, 21)\n",
    "\n",
    "hare = np.array([30.0, 47.2, 70.2, 77.4, 36.3, 20.6, 18.1, 21.4, 22.0, 25.4,\n",
    "                 27.1, 40.3, 57.0, 76.6, 52.3, 19.5, 11.2, 7.6, 14.6, 16.2, 24.7])\n",
    "lynx = np.array([4.0, 6.1, 9.8, 35.2, 59.4, 41.7, 19.0, 13.0, 8.3, 9.1, 7.4,\n",
    "                8.0, 12.3, 19.5, 45.7, 51.1, 29.7, 15.8, 9.7, 10.1, 8.6])\n",
    "\n",
    "Y = np.vstack((Hare, Lynx)).T\n",
    "Y"
   ]
  },
  {
   "cell_type": "code",
   "execution_count": 69,
   "id": "ad95f343",
   "metadata": {},
   "outputs": [
    {
     "data": {
      "text/plain": [
       "21"
      ]
     },
     "execution_count": 69,
     "metadata": {},
     "output_type": "execute_result"
    }
   ],
   "source": [
    "times = year.shape[0]\n",
    "times"
   ]
  },
  {
   "cell_type": "markdown",
   "id": "45b9de49",
   "metadata": {},
   "source": [
    "# ODE\n",
    "https://www.pymc.io/projects/docs/en/stable/api/generated/pymc.ode.DifferentialEquation.html  \n",
    "https://docs.pymc.io/en/v3/pymc-examples/examples/ode_models/ODE_API_introduction.html"
   ]
  },
  {
   "cell_type": "code",
   "execution_count": 70,
   "id": "57ea545a",
   "metadata": {},
   "outputs": [],
   "source": [
    "def Lotka_Volterra(y, t, p):\n",
    "    # p = [alpha, beta, gamma, delta]\n",
    "    # y = [u,v]\n",
    "    \n",
    "    prey = (p[0] - p[1]*y[1]) * y[0]\n",
    "    predator = (-p[2] + p[3]*y[0]) * y[1]\n",
    "\n",
    "    return [prey, predator]\n",
    "\n",
    "\n",
    "Lotka_Volterra_ode = DifferentialEquation(func=Lotka_Volterra, times=year, n_states=2, n_theta=4, t0=0)"
   ]
  },
  {
   "cell_type": "code",
   "execution_count": 72,
   "id": "d6283869",
   "metadata": {
    "scrolled": false
   },
   "outputs": [
    {
     "name": "stderr",
     "output_type": "stream",
     "text": [
      "Auto-assigning NUTS sampler...\n",
      "Initializing NUTS using jitter+adapt_diag...\n",
      "/home/canyon/miniconda3/envs/intuitive_bayes/lib/python3.10/site-packages/scipy/integrate/_odepack_py.py:247: ODEintWarning: Excess work done on this call (perhaps wrong Dfun type). Run with full_output = 1 to get quantitative information.\n",
      "  warnings.warn(warning_msg, ODEintWarning)\n",
      "Multiprocess sampling (4 chains in 4 jobs)\n",
      "NUTS: [alpha, beta, gamma, delta, prey_t0, predator_t0, sigma]\n"
     ]
    },
    {
     "data": {
      "text/html": [
       "\n",
       "<style>\n",
       "    /* Turns off some styling */\n",
       "    progress {\n",
       "        /* gets rid of default border in Firefox and Opera. */\n",
       "        border: none;\n",
       "        /* Needs to be in here for Safari polyfill so background images work as expected. */\n",
       "        background-size: auto;\n",
       "    }\n",
       "    .progress-bar-interrupted, .progress-bar-interrupted::-webkit-progress-bar {\n",
       "        background: #F44336;\n",
       "    }\n",
       "</style>\n"
      ],
      "text/plain": [
       "<IPython.core.display.HTML object>"
      ]
     },
     "metadata": {},
     "output_type": "display_data"
    },
    {
     "data": {
      "text/html": [
       "\n",
       "    <div>\n",
       "      <progress value='6330' class='' max='8000' style='width:300px; height:20px; vertical-align: middle;'></progress>\n",
       "      79.12% [6330/8000 1:44:59<27:42 Sampling 4 chains, 387 divergences]\n",
       "    </div>\n",
       "    "
      ],
      "text/plain": [
       "<IPython.core.display.HTML object>"
      ]
     },
     "metadata": {},
     "output_type": "display_data"
    },
    {
     "ename": "KeyError",
     "evalue": "0",
     "output_type": "error",
     "traceback": [
      "\u001b[0;31m---------------------------------------------------------------------------\u001b[0m",
      "\u001b[0;31mKeyError\u001b[0m                                  Traceback (most recent call last)",
      "Input \u001b[0;32mIn [72]\u001b[0m, in \u001b[0;36m<cell line: 1>\u001b[0;34m()\u001b[0m\n\u001b[1;32m     18\u001b[0m mu \u001b[38;5;241m=\u001b[39m Lotka_Volterra_ode(y0\u001b[38;5;241m=\u001b[39m[prey_t0, predator_t0], theta \u001b[38;5;241m=\u001b[39m p)\n\u001b[1;32m     21\u001b[0m Y_obs \u001b[38;5;241m=\u001b[39m pm\u001b[38;5;241m.\u001b[39mLognormal(\u001b[38;5;124m\"\u001b[39m\u001b[38;5;124mY_obs\u001b[39m\u001b[38;5;124m\"\u001b[39m, mu\u001b[38;5;241m=\u001b[39mpm\u001b[38;5;241m.\u001b[39mmath\u001b[38;5;241m.\u001b[39mlog(mu), sigma\u001b[38;5;241m=\u001b[39msigma, observed\u001b[38;5;241m=\u001b[39mY)\n\u001b[0;32m---> 23\u001b[0m trace \u001b[38;5;241m=\u001b[39m \u001b[43mpm\u001b[49m\u001b[38;5;241;43m.\u001b[39;49m\u001b[43msample\u001b[49m\u001b[43m(\u001b[49m\u001b[43m)\u001b[49m\n",
      "File \u001b[0;32m~/miniconda3/envs/intuitive_bayes/lib/python3.10/site-packages/pymc/sampling.py:655\u001b[0m, in \u001b[0;36msample\u001b[0;34m(draws, step, init, n_init, initvals, trace, chain_idx, chains, cores, tune, progressbar, model, random_seed, discard_tuned_samples, compute_convergence_checks, callback, jitter_max_retries, return_inferencedata, idata_kwargs, mp_ctx, **kwargs)\u001b[0m\n\u001b[1;32m    652\u001b[0m \u001b[38;5;66;03m# count the number of tune/draw iterations that happened\u001b[39;00m\n\u001b[1;32m    653\u001b[0m \u001b[38;5;66;03m# ideally via the \"tune\" statistic, but not all samplers record it!\u001b[39;00m\n\u001b[1;32m    654\u001b[0m \u001b[38;5;28;01mif\u001b[39;00m \u001b[38;5;124m\"\u001b[39m\u001b[38;5;124mtune\u001b[39m\u001b[38;5;124m\"\u001b[39m \u001b[38;5;129;01min\u001b[39;00m mtrace\u001b[38;5;241m.\u001b[39mstat_names:\n\u001b[0;32m--> 655\u001b[0m     stat \u001b[38;5;241m=\u001b[39m \u001b[43mmtrace\u001b[49m\u001b[38;5;241;43m.\u001b[39;49m\u001b[43mget_sampler_stats\u001b[49m\u001b[43m(\u001b[49m\u001b[38;5;124;43m\"\u001b[39;49m\u001b[38;5;124;43mtune\u001b[39;49m\u001b[38;5;124;43m\"\u001b[39;49m\u001b[43m,\u001b[49m\u001b[43m \u001b[49m\u001b[43mchains\u001b[49m\u001b[38;5;241;43m=\u001b[39;49m\u001b[43mchain_idx\u001b[49m\u001b[43m)\u001b[49m\n\u001b[1;32m    656\u001b[0m     \u001b[38;5;66;03m# when CompoundStep is used, the stat is 2 dimensional!\u001b[39;00m\n\u001b[1;32m    657\u001b[0m     \u001b[38;5;28;01mif\u001b[39;00m \u001b[38;5;28mlen\u001b[39m(stat\u001b[38;5;241m.\u001b[39mshape) \u001b[38;5;241m==\u001b[39m \u001b[38;5;241m2\u001b[39m:\n",
      "File \u001b[0;32m~/miniconda3/envs/intuitive_bayes/lib/python3.10/site-packages/pymc/backends/base.py:532\u001b[0m, in \u001b[0;36mMultiTrace.get_sampler_stats\u001b[0;34m(self, stat_name, burn, thin, combine, chains, squeeze)\u001b[0m\n\u001b[1;32m    529\u001b[0m \u001b[38;5;28;01mexcept\u001b[39;00m \u001b[38;5;167;01mTypeError\u001b[39;00m:\n\u001b[1;32m    530\u001b[0m     chains \u001b[38;5;241m=\u001b[39m [chains]\n\u001b[0;32m--> 532\u001b[0m results \u001b[38;5;241m=\u001b[39m [\n\u001b[1;32m    533\u001b[0m     \u001b[38;5;28mself\u001b[39m\u001b[38;5;241m.\u001b[39m_straces[chain]\u001b[38;5;241m.\u001b[39mget_sampler_stats(stat_name, \u001b[38;5;28;01mNone\u001b[39;00m, burn, thin) \u001b[38;5;28;01mfor\u001b[39;00m chain \u001b[38;5;129;01min\u001b[39;00m chains\n\u001b[1;32m    534\u001b[0m ]\n\u001b[1;32m    535\u001b[0m \u001b[38;5;28;01mreturn\u001b[39;00m _squeeze_cat(results, combine, squeeze)\n",
      "File \u001b[0;32m~/miniconda3/envs/intuitive_bayes/lib/python3.10/site-packages/pymc/backends/base.py:533\u001b[0m, in \u001b[0;36m<listcomp>\u001b[0;34m(.0)\u001b[0m\n\u001b[1;32m    529\u001b[0m \u001b[38;5;28;01mexcept\u001b[39;00m \u001b[38;5;167;01mTypeError\u001b[39;00m:\n\u001b[1;32m    530\u001b[0m     chains \u001b[38;5;241m=\u001b[39m [chains]\n\u001b[1;32m    532\u001b[0m results \u001b[38;5;241m=\u001b[39m [\n\u001b[0;32m--> 533\u001b[0m     \u001b[38;5;28;43mself\u001b[39;49m\u001b[38;5;241;43m.\u001b[39;49m\u001b[43m_straces\u001b[49m\u001b[43m[\u001b[49m\u001b[43mchain\u001b[49m\u001b[43m]\u001b[49m\u001b[38;5;241m.\u001b[39mget_sampler_stats(stat_name, \u001b[38;5;28;01mNone\u001b[39;00m, burn, thin) \u001b[38;5;28;01mfor\u001b[39;00m chain \u001b[38;5;129;01min\u001b[39;00m chains\n\u001b[1;32m    534\u001b[0m ]\n\u001b[1;32m    535\u001b[0m \u001b[38;5;28;01mreturn\u001b[39;00m _squeeze_cat(results, combine, squeeze)\n",
      "\u001b[0;31mKeyError\u001b[0m: 0"
     ]
    }
   ],
   "source": [
    "with pm.Model() as LV_model:\n",
    "\n",
    "    # Priors for unknown model parameters\n",
    "\n",
    "    alpha = pm.Normal(\"alpha\", mu=1, sigma=0.5)\n",
    "    beta = pm.Normal(\"beta\", mu=0.05, sigma=0.05)\n",
    "    \n",
    "    gamma = pm.Normal(\"gamma\", mu=1, sigma=0.5)\n",
    "    delta = pm.Normal(\"delta\", mu=0.05, sigma=0.05)\n",
    "\n",
    "    \n",
    "    prey_t0 = pm.Lognormal(\"prey_t0\", mu=np.log(10), sigma=1)\n",
    "    predator_t0 = pm.Lognormal(\"predator_t0\", mu=np.log(10), sigma=1)\n",
    "    sigma = pm.Lognormal(\"sigma\", mu=-1, sigma=1, shape=2)    \n",
    "\n",
    "    p = [alpha, beta, gamma, delta]\n",
    "    \n",
    "    mu = Lotka_Volterra_ode(y0=[prey_t0, predator_t0], theta = p)\n",
    "    \n",
    "    \n",
    "    Y_obs = pm.Lognormal(\"Y_obs\", mu=pm.math.log(mu), sigma=sigma, observed=Y)\n",
    "        \n",
    "    trace = pm.sample()"
   ]
  }
 ],
 "metadata": {
  "kernelspec": {
   "display_name": "Python 3 (ipykernel)",
   "language": "python",
   "name": "python3"
  },
  "language_info": {
   "codemirror_mode": {
    "name": "ipython",
    "version": 3
   },
   "file_extension": ".py",
   "mimetype": "text/x-python",
   "name": "python",
   "nbconvert_exporter": "python",
   "pygments_lexer": "ipython3",
   "version": "3.10.4"
  }
 },
 "nbformat": 4,
 "nbformat_minor": 5
}
